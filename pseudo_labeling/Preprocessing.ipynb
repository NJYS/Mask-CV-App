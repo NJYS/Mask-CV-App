{
 "cells": [
  {
   "cell_type": "code",
   "execution_count": null,
   "id": "f273a702-6371-4280-9cba-05dd23998504",
   "metadata": {},
   "outputs": [],
   "source": [
    "%%bash\n",
    "\n",
    "pip install kaggle segmentation_models_pytorch\n",
    "\n",
    "#locate kaggle.json to /opt/ml/.kaggle/kaggle.json if you are using linux\n",
    "mkdir data\n",
    "cd data\n",
    "\n",
    "kaggle datasets download -d perke986/face-mask-segmentation-dataset\n",
    "unzip face-mask-segmentation-dataset.zip\n",
    "\n",
    "rm face-mask-segmentation-dataset.zip"
   ]
  },
  {
   "cell_type": "code",
   "execution_count": null,
   "id": "c50fec8e-67c1-4843-89c9-00c6716f3c54",
   "metadata": {},
   "outputs": [],
   "source": [
    "import os\n",
    "from collections import defaultdict\n",
    "\n",
    "import cv2\n",
    "from tqdm import tqdm\n",
    "\n",
    "from dataset import get_DataLoader\n",
    "from utils import *\n",
    "\n",
    "\n",
    "seed = 42\n",
    "seed_everything(seed)"
   ]
  },
  {
   "cell_type": "code",
   "execution_count": null,
   "id": "61f520ef-679f-4e20-a7a8-ae23112b87eb",
   "metadata": {},
   "outputs": [],
   "source": [
    "all_path_dict = defaultdict(list)\n",
    "get_all_path('data')\n",
    "\n",
    "jpg_paths = all_path_dict['jpg']\n",
    "png_paths = all_path_dict['png']\n",
    "assert sorted(list(map(lambda x:x.split('.')[0].split('/')[-1], jpg_paths))) == sorted(list(map(lambda x:x.split('.')[0].split('/')[-1], png_paths))), 'pair does not match'"
   ]
  },
  {
   "cell_type": "code",
   "execution_count": null,
   "id": "f598dadd-f143-4f9c-bf33-ddf6cd9888c1",
   "metadata": {},
   "outputs": [],
   "source": [
    "jpg_folder = 'data/images'\n",
    "png_folder = 'data/masks'\n",
    "\n",
    "for idx, jpg_file in enumerate(tqdm(os.listdir(jpg_folder))):\n",
    "    jpg_path = os.path.join(jpg_folder, jpg_file)\n",
    "    png_path = os.path.join(png_folder, jpg_file[:-3]+'png')\n",
    "    \n",
    "    rename_jpg_path = os.path.join(jpg_path.split('/')[0], str(idx) + '.jpg')\n",
    "    rename_png_path = os.path.join(png_path.split('/')[0], str(idx) + '.png')\n",
    "    \n",
    "    os.rename(jpg_path, rename_jpg_path)\n",
    "    os.rename(png_path, rename_png_path)\n",
    "    \n",
    "    mask = cv2.imread(rename_png_path).astype(bool).astype(np.uint8)\n",
    "    \n",
    "    mask = cv2.cvtColor(mask,cv2.COLOR_BGR2GRAY)\n",
    "    cv2.imwrite(rename_png_path, mask)"
   ]
  },
  {
   "cell_type": "code",
   "execution_count": null,
   "id": "a65f79ec-2e05-4525-8ca8-12a8bdeddd49",
   "metadata": {},
   "outputs": [],
   "source": [
    "%%bash\n",
    "\n",
    "cd data\n",
    "rm info.txt\n",
    "rm -rf images\n",
    "rm -rf masks\n",
    "cd .."
   ]
  },
  {
   "cell_type": "markdown",
   "id": "404897e4-c89a-4c6c-84b7-236ce0a67bab",
   "metadata": {},
   "source": [
    "## Now Everything is ready! Start Train!\n",
    "`$python train.py`"
   ]
  }
 ],
 "metadata": {
  "kernelspec": {
   "display_name": "Python 3",
   "language": "python",
   "name": "python3"
  },
  "language_info": {
   "codemirror_mode": {
    "name": "ipython",
    "version": 3
   },
   "file_extension": ".py",
   "mimetype": "text/x-python",
   "name": "python",
   "nbconvert_exporter": "python",
   "pygments_lexer": "ipython3",
   "version": "3.8.5"
  }
 },
 "nbformat": 4,
 "nbformat_minor": 5
}
